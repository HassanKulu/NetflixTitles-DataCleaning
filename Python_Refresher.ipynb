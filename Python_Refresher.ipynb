{
  "nbformat": 4,
  "nbformat_minor": 0,
  "metadata": {
    "colab": {
      "provenance": [],
      "mount_file_id": "1feKmbkBA5tS_1mtq0cT_2GGHo9QNxv_l",
      "authorship_tag": "ABX9TyO5WWwz2I6HLU2iBE1vTqse",
      "include_colab_link": true
    },
    "kernelspec": {
      "name": "python3",
      "display_name": "Python 3"
    },
    "language_info": {
      "name": "python"
    }
  },
  "cells": [
    {
      "cell_type": "markdown",
      "metadata": {
        "id": "view-in-github",
        "colab_type": "text"
      },
      "source": [
        "<a href=\"https://colab.research.google.com/github/tanuiivy/AI-Coursework-2025/blob/main/Python_Refresher.ipynb\" target=\"_parent\"><img src=\"https://colab.research.google.com/assets/colab-badge.svg\" alt=\"Open In Colab\"/></a>"
      ]
    },
    {
      "cell_type": "code",
      "source": [
        "#Question 1\n",
        "#Input the number of days\n",
        "days = int(input(\"Enter your desired number of days: \"))\n",
        "#Calculate the number of seconds following the flow of: 1 day has 24 hours, 1 hour has 60 minutes, 1 minute has 60 seconds\n",
        "seconds = days*24*60*60\n",
        "#Display the result from the calculation above\n",
        "print(f\"There are {seconds} number of seconds in {days}.\")"
      ],
      "metadata": {
        "colab": {
          "base_uri": "https://localhost:8080/"
        },
        "id": "iEntCI1StEnN",
        "outputId": "ff719b8f-ddcf-479d-9dc9-e0e95940ffeb"
      },
      "execution_count": null,
      "outputs": [
        {
          "output_type": "stream",
          "name": "stdout",
          "text": [
            "Enter your desired number of days: 2\n",
            "There are 172800 number of seconds in 2\n"
          ]
        }
      ]
    },
    {
      "cell_type": "code",
      "execution_count": null,
      "metadata": {
        "id": "hks0fE_sqTCw",
        "colab": {
          "base_uri": "https://localhost:8080/"
        },
        "outputId": "6cf50972-02a2-4e15-c2b6-f4708468bfc6"
      },
      "outputs": [
        {
          "output_type": "stream",
          "name": "stdout",
          "text": [
            "Enter the radius of the sphere: 3\n",
            "Based on this radius 3.0, the volume of the sphere is 113.09723999999999.\n"
          ]
        }
      ],
      "source": [
        "#Question 2\n",
        "#Input the radius of the sphere: float to accomodate for decimal point\n",
        "radius = float(input(\"Enter the radius of the sphere: \"))\n",
        "#Formula for calculating the volume of a spher with the **3 exponential operator\n",
        "volume = (4/3) * 3.14159 * (radius**3)\n",
        "#Display result from the calcualtion\n",
        "print(f\"Based on this radius {radius}, the volume of the sphere is {volume}.\")"
      ]
    },
    {
      "cell_type": "code",
      "source": [
        "#Question 3\n",
        "#Declare function\n",
        "def square():\n",
        "  #Input the lenght you would like for the square\n",
        "  lenght = float(input(\"Enter the lenght of the square: \"))\n",
        "  #Compute the area- lenght squared\n",
        "  area = lenght ** 2\n",
        "  #Compute the perimeter - lenght * 4\n",
        "  perimeter = lenght * 4\n",
        "  #Output the result\n",
        "  print(f\"Given the lenght {lenght} of all the sides, the area of the square is {area} and the perimeter is {perimeter}.\")\n",
        "#Call the function\n",
        "square()"
      ],
      "metadata": {
        "colab": {
          "base_uri": "https://localhost:8080/"
        },
        "id": "CAo3uzEzyToR",
        "outputId": "5a37c31b-9630-4490-bce9-6c6d0ad67b9e"
      },
      "execution_count": null,
      "outputs": [
        {
          "output_type": "stream",
          "name": "stdout",
          "text": [
            "Enter the lenght of the square: 4\n",
            "Given the lenght 4.0 of all the sides, the area of the square is 16.0 and the perimeter is 16.0.\n"
          ]
        }
      ]
    },
    {
      "cell_type": "code",
      "source": [
        "#Question 4\n",
        "#Declare function\n",
        "def letter_case():\n",
        "  #Input a character\n",
        "  character = input(\"Enter a letter: \")\n",
        "  #Conditional statements to check if it is a character and which case the character is in\n",
        "  if character.isupper():\n",
        "    print(f\"This letter {character} is in UPPERCASE!\")\n",
        "  elif character.islower():\n",
        "    print(f\"This letter {character} is in lowercase!\")\n",
        "  else:\n",
        "    print(f\"{character} is not a letter. Enter a letter.\")\n",
        "#Call the function\n",
        "letter_case()"
      ],
      "metadata": {
        "colab": {
          "base_uri": "https://localhost:8080/"
        },
        "id": "L9aZ29O90ELZ",
        "outputId": "bc988ecc-82bd-445c-8649-fcc24f9eafe2"
      },
      "execution_count": null,
      "outputs": [
        {
          "output_type": "stream",
          "name": "stdout",
          "text": [
            "Enter a letter: Y\n",
            "This letter Y is in UPPERCASE!\n"
          ]
        }
      ]
    },
    {
      "cell_type": "code",
      "source": [
        "#Question 5\n",
        "#Initialize the variables x & y\n",
        "x = 0\n",
        "y = 20\n",
        "#Repeat the computation until y is less that 6\n",
        "#Looping structre:while;while y is greater then or equal to 6\n",
        "while y >= 6:\n",
        "  #Subtract 4 from y\n",
        "  y = y - 4\n",
        "  #Add 2/y to x\n",
        "  x = x + (2/y)\n",
        "#Display result\n",
        "print(\"The value of x after the calculations is: \", x)"
      ],
      "metadata": {
        "colab": {
          "base_uri": "https://localhost:8080/"
        },
        "id": "kAvfQjas1we7",
        "outputId": "725e976e-b524-403a-91db-eee16af7a145"
      },
      "execution_count": null,
      "outputs": [
        {
          "output_type": "stream",
          "name": "stdout",
          "text": [
            "The value of x after the calculations is:  1.0416666666666665\n"
          ]
        }
      ]
    },
    {
      "cell_type": "code",
      "source": [
        "#Question 6\n",
        "#Empty array where the 5 values will be stored\n",
        "values = []\n",
        "#Looping 5 times for the user to input the 5 values\n",
        "for v in range(5):\n",
        "  number = float(input(f\"Enter value number {v+1}: \"))\n",
        "  #Add new element to the end of the array\n",
        "  values.append(number)\n",
        "#Calculate the average\n",
        "average = sum(values)/ len(values)\n",
        "\n",
        "#Display the results\n",
        "print(\"The values you entered are: \", values)\n",
        "print(\"The average of the values is: \", average)"
      ],
      "metadata": {
        "colab": {
          "base_uri": "https://localhost:8080/"
        },
        "id": "iju0Auax6JxA",
        "outputId": "1c5fcea8-2d03-43da-b7e8-d500c7cdcf72"
      },
      "execution_count": null,
      "outputs": [
        {
          "output_type": "stream",
          "name": "stdout",
          "text": [
            "Enter value number 1: 2\n",
            "Enter value number 2: 3\n",
            "Enter value number 3: 4\n",
            "Enter value number 4: 5\n",
            "Enter value number 5: 6\n",
            "The values you entered are:  [2.0, 3.0, 4.0, 5.0, 6.0]\n",
            "The average of the values is:  4.0\n"
          ]
        }
      ]
    },
    {
      "cell_type": "markdown",
      "source": [
        "<img src=\"https://drive.google.com/uc?id=1TLYX2oMzjbu7WmaSjaTrr1OOGNJfVFVw\" style=\"max-width:100%; height:auto;\">\n"
      ],
      "metadata": {
        "id": "Ggh8vg59D6Dl"
      }
    }
  ]
}